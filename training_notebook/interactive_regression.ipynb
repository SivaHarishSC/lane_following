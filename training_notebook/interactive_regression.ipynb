{
 "cells": [
  {
   "cell_type": "markdown",
   "metadata": {},
   "source": [
    "### Task"
   ]
  },
  {
   "cell_type": "code",
   "execution_count": 1,
   "metadata": {},
   "outputs": [],
   "source": [
    "import os\n",
    "import torch\n",
    "import torchvision.transforms as transforms\n",
    "from xy_dataset_copy import XYDataset\n",
    "from torch.utils.data import DataLoader, random_split\n",
    "import torchvision\n",
    "\n",
    "# Path to your dataset folder\n",
    "DATA_DIRECTORY = '/home/af/sd/final_record_2'\n",
    "\n",
    "# Define transforms\n",
    "TRANSFORMS = transforms.Compose([\n",
    "    transforms.ColorJitter(0.2, 0.2, 0.2, 0.2),\n",
    "    transforms.Resize((224, 224)),\n",
    "    transforms.ToTensor(),\n",
    "    transforms.Normalize([0.485, 0.456, 0.406], [0.229, 0.224, 0.225])\n",
    "])"
   ]
  },
  {
   "cell_type": "code",
   "execution_count": 2,
   "metadata": {},
   "outputs": [],
   "source": [
    "# Initialize dataset\n",
    "dataset = XYDataset(DATA_DIRECTORY, transform=TRANSFORMS, random_hflip=True)\n",
    "\n",
    "# Split into train, validation, and test sets\n",
    "train_size = int(0.8 * len(dataset))\n",
    "val_size = int(0.1 * len(dataset))\n",
    "test_size = len(dataset) - train_size - val_size\n",
    "train_dataset, val_dataset, test_dataset = random_split(dataset, [train_size, val_size, test_size])\n",
    "\n",
    "# Initialize DataLoaders\n",
    "BATCH_SIZE = 8\n",
    "train_loader = DataLoader(train_dataset, batch_size=BATCH_SIZE, shuffle=True)\n",
    "val_loader = DataLoader(val_dataset, batch_size=BATCH_SIZE, shuffle=False)\n",
    "test_loader = DataLoader(test_dataset, batch_size=BATCH_SIZE, shuffle=False)"
   ]
  },
  {
   "cell_type": "markdown",
   "metadata": {},
   "source": [
    "### Model"
   ]
  },
  {
   "cell_type": "code",
   "execution_count": 4,
   "metadata": {},
   "outputs": [],
   "source": [
    "# Model\n",
    "device = torch.device('cuda' if torch.cuda.is_available() else 'cpu')\n",
    "output_dim = 3  # Three classes: -28, 0, 28 degrees\n",
    "\n",
    "# model = torchvision.models.resnet18(pretrained=True)\n",
    "# model.fc = torch.nn.Linear(512, output_dim)\n",
    "# model = model.to(device)\n",
    "\n",
    "# model = torchvision.models.resnet34(pretrained=True)\n",
    "# model.fc = torch.nn.Linear(512, output_dim)\n",
    "# model = model.to(device)\n",
    "\n",
    "# model = torchvision.models.resnet50(pretrained=True)\n",
    "# model.fc = torch.nn.Linear(2048, output_dim)  # ResNet50 has a final fully connected layer with 2048 input features\n",
    "# model = model.to(device)\n",
    "\n",
    "model = torchvision.models.densenet121(pretrained=True)\n",
    "model.classifier = torch.nn.Linear(1024, output_dim)  # DenseNet121 has a final classifier layer with 1024 input features\n",
    "model = model.to(device)\n",
    "\n",
    "# Optimizer and loss function\n",
    "optimizer = torch.optim.Adam(model.parameters())\n",
    "criterion = torch.nn.CrossEntropyLoss()"
   ]
  },
  {
   "cell_type": "markdown",
   "metadata": {},
   "source": [
    "### Training"
   ]
  },
  {
   "cell_type": "code",
   "execution_count": 5,
   "metadata": {},
   "outputs": [],
   "source": [
    "# Function for training or evaluation\n",
    "def train_eval(model, optimizer, data_loader, device, is_training):\n",
    "    if is_training:\n",
    "        model.train()\n",
    "    else:\n",
    "        model.eval()\n",
    "\n",
    "    total_loss = 0.0\n",
    "    total_samples = 0\n",
    "    correct_predictions = 0\n",
    "\n",
    "    for images, _, angles in data_loader:\n",
    "        images = images.to(device)\n",
    "        angles = angles.to(device, dtype=torch.long)\n",
    "\n",
    "        # Ensure angles has the correct shape\n",
    "        if len(angles.shape) == 1:\n",
    "            angles = angles.unsqueeze(1)\n",
    "\n",
    "        if is_training:\n",
    "            optimizer.zero_grad()\n",
    "\n",
    "        with torch.set_grad_enabled(is_training):\n",
    "            outputs = model(images)\n",
    "            loss = criterion(outputs, angles.squeeze())\n",
    "            \n",
    "            if is_training:\n",
    "                loss.backward()\n",
    "                optimizer.step()\n",
    "\n",
    "        total_loss += loss.item() * images.size(0)\n",
    "        total_samples += images.size(0)\n",
    "        _, preds = torch.max(outputs, 1)\n",
    "        correct_predictions += torch.sum(preds == angles.squeeze())\n",
    "\n",
    "    accuracy = correct_predictions.double() / total_samples\n",
    "    return total_loss / total_samples, accuracy.item()"
   ]
  },
  {
   "cell_type": "code",
   "execution_count": 6,
   "metadata": {},
   "outputs": [],
   "source": [
    "# Training loop\n",
    "def train(model, optimizer, train_loader, val_loader, device, num_epochs=10):\n",
    "    best_val_loss = float('inf')\n",
    "\n",
    "    for epoch in range(num_epochs):\n",
    "        train_loss, train_acc = train_eval(model, optimizer, train_loader, device, True)\n",
    "        val_loss, val_acc = train_eval(model, optimizer, val_loader, device, False)\n",
    "\n",
    "        print(f\"Epoch [{epoch+1}/{num_epochs}], Train Loss: {train_loss:.4f}, Train Acc: {train_acc:.4f}, Val Loss: {val_loss:.4f}, Val Acc: {val_acc:.4f}\")\n",
    "\n",
    "        # Save best model\n",
    "        if val_loss < best_val_loss:\n",
    "            best_val_loss = val_loss\n",
    "            torch.save(model.state_dict(), 'road_following_model_densenet121_100_2.pth')\n",
    "\n",
    "    print(\"Training complete.\")"
   ]
  },
  {
   "cell_type": "code",
   "execution_count": 6,
   "metadata": {},
   "outputs": [
    {
     "name": "stdout",
     "output_type": "stream",
     "text": [
      "Epoch [1/100], Train Loss: 0.7150, Train Acc: 0.7164, Val Loss: 0.7244, Val Acc: 0.7442\n",
      "Epoch [2/100], Train Loss: 0.5391, Train Acc: 0.7987, Val Loss: 0.4878, Val Acc: 0.8047\n",
      "Epoch [3/100], Train Loss: 0.4792, Train Acc: 0.8225, Val Loss: 0.5042, Val Acc: 0.8093\n",
      "Epoch [4/100], Train Loss: 0.4648, Train Acc: 0.8202, Val Loss: 0.4494, Val Acc: 0.8372\n",
      "Epoch [5/100], Train Loss: 0.4240, Train Acc: 0.8428, Val Loss: 0.4779, Val Acc: 0.8140\n",
      "Epoch [6/100], Train Loss: 0.3969, Train Acc: 0.8509, Val Loss: 0.3940, Val Acc: 0.8605\n",
      "Epoch [7/100], Train Loss: 0.4013, Train Acc: 0.8521, Val Loss: 0.4819, Val Acc: 0.7907\n",
      "Epoch [8/100], Train Loss: 0.3926, Train Acc: 0.8579, Val Loss: 0.3997, Val Acc: 0.8233\n",
      "Epoch [9/100], Train Loss: 0.3735, Train Acc: 0.8573, Val Loss: 0.3939, Val Acc: 0.8372\n",
      "Epoch [10/100], Train Loss: 0.3778, Train Acc: 0.8631, Val Loss: 0.3677, Val Acc: 0.8791\n",
      "Epoch [11/100], Train Loss: 0.3351, Train Acc: 0.8747, Val Loss: 0.3959, Val Acc: 0.8558\n",
      "Epoch [12/100], Train Loss: 0.3313, Train Acc: 0.8823, Val Loss: 0.4750, Val Acc: 0.8000\n",
      "Epoch [13/100], Train Loss: 0.3353, Train Acc: 0.8701, Val Loss: 0.3514, Val Acc: 0.8744\n",
      "Epoch [14/100], Train Loss: 0.3322, Train Acc: 0.8759, Val Loss: 0.6327, Val Acc: 0.7628\n",
      "Epoch [15/100], Train Loss: 0.3393, Train Acc: 0.8782, Val Loss: 0.3394, Val Acc: 0.8651\n",
      "Epoch [16/100], Train Loss: 0.3269, Train Acc: 0.8782, Val Loss: 0.3373, Val Acc: 0.8791\n",
      "Epoch [17/100], Train Loss: 0.2908, Train Acc: 0.8857, Val Loss: 0.3585, Val Acc: 0.8744\n",
      "Epoch [18/100], Train Loss: 0.3060, Train Acc: 0.8799, Val Loss: 0.3527, Val Acc: 0.8744\n",
      "Epoch [19/100], Train Loss: 0.3021, Train Acc: 0.8857, Val Loss: 0.3255, Val Acc: 0.8791\n",
      "Epoch [20/100], Train Loss: 0.2942, Train Acc: 0.8950, Val Loss: 0.3492, Val Acc: 0.8791\n",
      "Epoch [21/100], Train Loss: 0.2998, Train Acc: 0.8933, Val Loss: 0.3260, Val Acc: 0.8605\n",
      "Epoch [22/100], Train Loss: 0.2834, Train Acc: 0.8898, Val Loss: 0.3278, Val Acc: 0.8930\n",
      "Epoch [23/100], Train Loss: 0.2711, Train Acc: 0.9008, Val Loss: 0.3594, Val Acc: 0.8884\n",
      "Epoch [24/100], Train Loss: 0.2606, Train Acc: 0.9002, Val Loss: 0.3797, Val Acc: 0.8605\n",
      "Epoch [25/100], Train Loss: 0.2618, Train Acc: 0.8979, Val Loss: 0.4335, Val Acc: 0.8744\n",
      "Epoch [26/100], Train Loss: 0.2524, Train Acc: 0.9066, Val Loss: 0.3361, Val Acc: 0.8651\n",
      "Epoch [27/100], Train Loss: 0.2591, Train Acc: 0.9037, Val Loss: 0.3409, Val Acc: 0.8698\n",
      "Epoch [28/100], Train Loss: 0.2406, Train Acc: 0.9124, Val Loss: 0.3524, Val Acc: 0.8791\n",
      "Epoch [29/100], Train Loss: 0.2455, Train Acc: 0.9055, Val Loss: 0.3552, Val Acc: 0.8884\n",
      "Epoch [30/100], Train Loss: 0.2597, Train Acc: 0.8973, Val Loss: 0.3039, Val Acc: 0.9023\n",
      "Epoch [31/100], Train Loss: 0.2381, Train Acc: 0.9072, Val Loss: 0.3099, Val Acc: 0.8791\n",
      "Epoch [32/100], Train Loss: 0.2342, Train Acc: 0.9130, Val Loss: 0.3589, Val Acc: 0.8837\n",
      "Epoch [33/100], Train Loss: 0.2346, Train Acc: 0.9060, Val Loss: 0.3733, Val Acc: 0.8884\n",
      "Epoch [34/100], Train Loss: 0.2341, Train Acc: 0.9101, Val Loss: 0.3999, Val Acc: 0.8465\n",
      "Epoch [35/100], Train Loss: 0.2285, Train Acc: 0.9142, Val Loss: 0.3810, Val Acc: 0.8465\n",
      "Epoch [36/100], Train Loss: 0.2043, Train Acc: 0.9171, Val Loss: 0.3657, Val Acc: 0.8419\n",
      "Epoch [37/100], Train Loss: 0.2285, Train Acc: 0.9136, Val Loss: 0.3305, Val Acc: 0.8651\n",
      "Epoch [38/100], Train Loss: 0.2223, Train Acc: 0.9182, Val Loss: 0.3424, Val Acc: 0.8977\n",
      "Epoch [39/100], Train Loss: 0.1970, Train Acc: 0.9159, Val Loss: 0.3718, Val Acc: 0.8744\n",
      "Epoch [40/100], Train Loss: 0.2320, Train Acc: 0.9060, Val Loss: 0.4113, Val Acc: 0.8837\n",
      "Epoch [41/100], Train Loss: 0.2046, Train Acc: 0.9153, Val Loss: 0.3435, Val Acc: 0.8744\n",
      "Epoch [42/100], Train Loss: 0.2202, Train Acc: 0.9078, Val Loss: 0.3623, Val Acc: 0.8512\n",
      "Epoch [43/100], Train Loss: 0.2026, Train Acc: 0.9182, Val Loss: 0.3863, Val Acc: 0.8279\n",
      "Epoch [44/100], Train Loss: 0.1888, Train Acc: 0.9287, Val Loss: 0.4230, Val Acc: 0.8558\n",
      "Epoch [45/100], Train Loss: 0.2146, Train Acc: 0.9124, Val Loss: 0.3052, Val Acc: 0.8698\n",
      "Epoch [46/100], Train Loss: 0.1811, Train Acc: 0.9263, Val Loss: 0.3489, Val Acc: 0.8698\n",
      "Epoch [47/100], Train Loss: 0.1625, Train Acc: 0.9385, Val Loss: 0.4231, Val Acc: 0.8791\n",
      "Epoch [48/100], Train Loss: 0.1798, Train Acc: 0.9316, Val Loss: 0.4245, Val Acc: 0.8326\n",
      "Epoch [49/100], Train Loss: 0.1701, Train Acc: 0.9281, Val Loss: 0.3533, Val Acc: 0.8744\n",
      "Epoch [50/100], Train Loss: 0.1741, Train Acc: 0.9350, Val Loss: 0.3344, Val Acc: 0.8884\n",
      "Epoch [51/100], Train Loss: 0.1655, Train Acc: 0.9350, Val Loss: 0.3571, Val Acc: 0.8791\n",
      "Epoch [52/100], Train Loss: 0.1780, Train Acc: 0.9263, Val Loss: 0.3680, Val Acc: 0.8372\n",
      "Epoch [53/100], Train Loss: 0.1794, Train Acc: 0.9269, Val Loss: 0.3439, Val Acc: 0.8791\n",
      "Epoch [54/100], Train Loss: 0.1638, Train Acc: 0.9310, Val Loss: 0.3660, Val Acc: 0.8605\n",
      "Epoch [55/100], Train Loss: 0.1854, Train Acc: 0.9275, Val Loss: 0.3309, Val Acc: 0.8744\n",
      "Epoch [56/100], Train Loss: 0.1496, Train Acc: 0.9397, Val Loss: 0.3650, Val Acc: 0.8651\n",
      "Epoch [57/100], Train Loss: 0.1618, Train Acc: 0.9345, Val Loss: 0.3591, Val Acc: 0.8837\n",
      "Epoch [58/100], Train Loss: 0.1551, Train Acc: 0.9408, Val Loss: 0.4146, Val Acc: 0.8605\n",
      "Epoch [59/100], Train Loss: 0.1310, Train Acc: 0.9449, Val Loss: 0.4228, Val Acc: 0.8791\n",
      "Epoch [60/100], Train Loss: 0.1522, Train Acc: 0.9339, Val Loss: 0.4100, Val Acc: 0.8698\n",
      "Epoch [61/100], Train Loss: 0.1701, Train Acc: 0.9362, Val Loss: 0.3978, Val Acc: 0.8884\n",
      "Epoch [62/100], Train Loss: 0.1414, Train Acc: 0.9432, Val Loss: 0.4459, Val Acc: 0.8884\n",
      "Epoch [63/100], Train Loss: 0.1556, Train Acc: 0.9455, Val Loss: 0.4181, Val Acc: 0.8651\n",
      "Epoch [64/100], Train Loss: 0.1687, Train Acc: 0.9333, Val Loss: 0.4651, Val Acc: 0.8930\n",
      "Epoch [65/100], Train Loss: 0.1483, Train Acc: 0.9449, Val Loss: 0.4303, Val Acc: 0.8744\n",
      "Epoch [66/100], Train Loss: 0.1434, Train Acc: 0.9374, Val Loss: 0.4174, Val Acc: 0.8744\n",
      "Epoch [67/100], Train Loss: 0.1271, Train Acc: 0.9495, Val Loss: 0.3828, Val Acc: 0.8605\n",
      "Epoch [68/100], Train Loss: 0.1687, Train Acc: 0.9275, Val Loss: 0.4097, Val Acc: 0.8884\n",
      "Epoch [69/100], Train Loss: 0.1280, Train Acc: 0.9542, Val Loss: 0.4016, Val Acc: 0.8791\n",
      "Epoch [70/100], Train Loss: 0.1367, Train Acc: 0.9490, Val Loss: 0.4631, Val Acc: 0.8837\n",
      "Epoch [71/100], Train Loss: 0.1403, Train Acc: 0.9420, Val Loss: 0.4930, Val Acc: 0.8837\n",
      "Epoch [72/100], Train Loss: 0.1318, Train Acc: 0.9455, Val Loss: 0.4562, Val Acc: 0.8279\n",
      "Epoch [73/100], Train Loss: 0.1380, Train Acc: 0.9443, Val Loss: 0.4284, Val Acc: 0.8930\n",
      "Epoch [74/100], Train Loss: 0.1333, Train Acc: 0.9461, Val Loss: 0.5219, Val Acc: 0.8558\n",
      "Epoch [75/100], Train Loss: 0.1434, Train Acc: 0.9356, Val Loss: 0.4037, Val Acc: 0.8837\n",
      "Epoch [76/100], Train Loss: 0.1220, Train Acc: 0.9565, Val Loss: 0.4342, Val Acc: 0.8791\n",
      "Epoch [77/100], Train Loss: 0.1337, Train Acc: 0.9461, Val Loss: 0.3487, Val Acc: 0.8977\n",
      "Epoch [78/100], Train Loss: 0.1358, Train Acc: 0.9414, Val Loss: 0.4439, Val Acc: 0.8837\n",
      "Epoch [79/100], Train Loss: 0.1198, Train Acc: 0.9501, Val Loss: 0.4340, Val Acc: 0.8930\n",
      "Epoch [80/100], Train Loss: 0.1409, Train Acc: 0.9443, Val Loss: 0.4193, Val Acc: 0.8698\n",
      "Epoch [81/100], Train Loss: 0.1141, Train Acc: 0.9548, Val Loss: 0.3672, Val Acc: 0.8791\n",
      "Epoch [82/100], Train Loss: 0.1202, Train Acc: 0.9478, Val Loss: 0.4529, Val Acc: 0.8977\n",
      "Epoch [83/100], Train Loss: 0.1297, Train Acc: 0.9519, Val Loss: 0.4723, Val Acc: 0.8791\n",
      "Epoch [84/100], Train Loss: 0.1195, Train Acc: 0.9466, Val Loss: 0.4004, Val Acc: 0.8698\n",
      "Epoch [85/100], Train Loss: 0.1244, Train Acc: 0.9466, Val Loss: 0.4829, Val Acc: 0.8698\n",
      "Epoch [86/100], Train Loss: 0.1136, Train Acc: 0.9519, Val Loss: 0.4265, Val Acc: 0.8698\n",
      "Epoch [87/100], Train Loss: 0.1123, Train Acc: 0.9600, Val Loss: 0.4889, Val Acc: 0.9023\n",
      "Epoch [88/100], Train Loss: 0.1179, Train Acc: 0.9507, Val Loss: 0.4074, Val Acc: 0.8977\n",
      "Epoch [89/100], Train Loss: 0.1124, Train Acc: 0.9542, Val Loss: 0.4592, Val Acc: 0.8884\n",
      "Epoch [90/100], Train Loss: 0.1180, Train Acc: 0.9466, Val Loss: 0.4202, Val Acc: 0.8744\n",
      "Epoch [91/100], Train Loss: 0.1375, Train Acc: 0.9455, Val Loss: 0.3815, Val Acc: 0.8837\n",
      "Epoch [92/100], Train Loss: 0.1394, Train Acc: 0.9478, Val Loss: 0.4108, Val Acc: 0.8698\n",
      "Epoch [93/100], Train Loss: 0.1112, Train Acc: 0.9571, Val Loss: 0.3906, Val Acc: 0.8884\n",
      "Epoch [94/100], Train Loss: 0.1186, Train Acc: 0.9519, Val Loss: 0.4005, Val Acc: 0.9070\n",
      "Epoch [95/100], Train Loss: 0.0882, Train Acc: 0.9629, Val Loss: 0.3771, Val Acc: 0.8884\n",
      "Epoch [96/100], Train Loss: 0.1118, Train Acc: 0.9542, Val Loss: 0.4986, Val Acc: 0.8791\n",
      "Epoch [97/100], Train Loss: 0.1305, Train Acc: 0.9472, Val Loss: 0.3773, Val Acc: 0.8791\n",
      "Epoch [98/100], Train Loss: 0.1034, Train Acc: 0.9594, Val Loss: 0.4117, Val Acc: 0.8744\n",
      "Epoch [99/100], Train Loss: 0.1105, Train Acc: 0.9565, Val Loss: 0.3937, Val Acc: 0.8837\n",
      "Epoch [100/100], Train Loss: 0.0982, Train Acc: 0.9548, Val Loss: 0.4347, Val Acc: 0.8651\n",
      "Training complete.\n"
     ]
    }
   ],
   "source": [
    "# Start training\n",
    "train(model, optimizer, train_loader, val_loader, device, num_epochs=100)"
   ]
  },
  {
   "cell_type": "code",
   "execution_count": 7,
   "metadata": {},
   "outputs": [],
   "source": [
    "# Test loop\n",
    "def test(model, test_loader, device):\n",
    "    model.eval()\n",
    "    test_loss, test_acc = train_eval(model, optimizer, test_loader, device, False)\n",
    "    print(f\"Test Loss: {test_loss:.4f}, Test Accuracy: {test_acc:.4f}\")"
   ]
  },
  {
   "cell_type": "code",
   "execution_count": 8,
   "metadata": {},
   "outputs": [
    {
     "name": "stdout",
     "output_type": "stream",
     "text": [
      "Test Loss: 0.1841, Test Accuracy: 0.9120\n"
     ]
    }
   ],
   "source": [
    "# Evaluate on test set\n",
    "model.load_state_dict(torch.load('road_following_model_densenet121_100_2.pth'))\n",
    "\n",
    "test(model, test_loader, device)"
   ]
  },
  {
   "cell_type": "code",
   "execution_count": null,
   "metadata": {},
   "outputs": [],
   "source": []
  }
 ],
 "metadata": {
  "kernelspec": {
   "display_name": "Python 3 (ipykernel)",
   "language": "python",
   "name": "python3"
  },
  "language_info": {
   "codemirror_mode": {
    "name": "ipython",
    "version": 3
   },
   "file_extension": ".py",
   "mimetype": "text/x-python",
   "name": "python",
   "nbconvert_exporter": "python",
   "pygments_lexer": "ipython3",
   "version": "3.8.10"
  }
 },
 "nbformat": 4,
 "nbformat_minor": 2
}
